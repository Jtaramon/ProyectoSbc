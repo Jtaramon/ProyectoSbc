{
 "cells": [
  {
   "cell_type": "markdown",
   "metadata": {},
   "source": [
    "# 1. Semantic Annotation\n",
    "\n",
    "## 1.1 Using Tagme\n",
    "\n",
    "\n",
    "- Tagme demo (GUI): https://tagme.d4science.org/tagme/\n",
    "- To create account https://sobigdata.d4science.org/group/tagme/tagme\n"
   ]
  },
  {
   "cell_type": "code",
   "execution_count": 1,
   "metadata": {},
   "outputs": [],
   "source": [
    "import requests\n",
    "token = 'cf3c6c6c-c6ea-4ab9-8a70-3a558775e837-843339462' # colocar aquí el token\n",
    "url_endpoint = 'https://tagme.d4science.org/tagme/tag?lang=en&include_abstract=true&include_categories=true&gcube-token='\n",
    "headers = {'user-agent': 'Mozilla/5.0', 'accept': 'application/json', 'content-type': 'application/json'}\n",
    "dbr = 'http://dbpedia.org/resource/'\n",
    "dbc = 'http://dbpedia.org/resource/Category:'\n"
   ]
  },
  {
   "cell_type": "markdown",
   "metadata": {},
   "source": [
    "### 1.1.1 To process title or abstract:\n",
    "\n",
    "Try with:\n",
    "\n",
    "https://tagme.d4science.org/tagme/spot?lang=en&gcube-token=<PUT YOUR TOKEN>&tweet=true&text=We%20propose%20a%20fact%20validation%20challenge%20for%20ISWC%202019.%20The%20participants%20will%20be%20provided%20set%20of%20facts%20in%20the%20form%20of%20a%20set%20of%20RDF%20triples%20as%20input.%20They%20will%20be%20requested%20to%20evaluate%20the%20veracity%20of%20this%20input%20and%20return%20a%20score%20between%20-1%20(false)%20and%20+1%20(true).%20This%20score%20%20quantifies%20how%20reliable%20the%20given%20facts%20are.%20The%20challenge%20will%20be%20based%20on%20the%20biomedical%20knowledge%20graph%20DrugBank%20and%20consist%20of%20two%20tasks.%20In%20Task%201%20(Batch%20Fact%20Validation),%20the%20ROC%20achieved%20by%20the%20participants%20will%20be%20evaluated%20using%20the%20GERBIL%20extension%20used%20successfully%20during%20the%20ISWC%20Semantic%20Web%20Challenges%202017%20and%202018.%20Task%202%20will%20be%20concerned%20with%20fact%20validation%20at%20scale%20and%20rely%20on%20the%20HOBBIT%20benchmarking%20platform.%20Here,%20the%20participants%20will%20be%20faced%20with%20an%20interactive%20task,%20in%20which%20both%20ROC%20and%20runtime%20will%20be%20evaluated."
   ]
  },
  {
   "cell_type": "code",
   "execution_count": 2,
   "metadata": {},
   "outputs": [],
   "source": [
    "\n",
    "def getAnnotations(paper_id, text):\n",
    "    url = url_endpoint + token + '&text=' + text\n",
    "\n",
    "    resp = requests.get(url, headers=headers).json()\n",
    "    resp.keys()\n",
    "    annotations = resp['annotations']\n",
    "\n",
    "    dbCategories = []\n",
    "\n",
    "    for i in range(len(annotations)):\n",
    "        ann = annotations[i]['spot']\n",
    "        if annotations[i]['rho'] > 0.1 and annotations[i]['link_probability'] > 0.1:\n",
    "            ann = dbr + ann.replace(' ', '_')     \n",
    "            # Guardar como recursos de la Dbpedia:\n",
    "            for c in annotations[i]['dbpedia_categories']:\n",
    "                dbCategories.append([paper_id, ann, annotations[i]['rho'],\n",
    "                                 annotations[i]['link_probability'], dbc + c.replace(' ', '_')])\n",
    "    return dbCategories"
   ]
  },
  {
   "cell_type": "code",
   "execution_count": 3,
   "metadata": {
    "scrolled": false
   },
   "outputs": [],
   "source": [
    "\n",
    "\n",
    "# To get annotations in a iterative way from the source:\n",
    "#paper_id = 'http://dx.doi.org/10.14213/inteuniorigh.27.3.0020' # id or some identifier\n",
    "#text = \"\"\"We propose a fact validation challenge for ISWC 2019. The participants will be provided set of facts in the form of a set of RDF triples as input. They will be requested to evaluate the veracity of this input and return a score between -1 (false) and +1 (true). This score  quantifies how reliable the given facts are. The challenge will be based on the biomedical knowledge graph DrugBank and consist of two tasks. In Task 1 (Batch Fact Validation), the ROC achieved by the participants will be evaluated using the GERBIL extension used successfully during the ISWC Semantic Web Challenges 2017 and 2018. Task 2 will be concerned with fact validation at scale and rely on the HOBBIT benchmarking platform. Here, the participants will be faced with an interactive task, in which both ROC and runtime will be evaluated.\"\"\"\n",
    "#dbCategories = getAnnotations(paper_id, text)\n",
    "with open(\"dois.txt\", \"r\") as tf:\n",
    "    lines = tf.read().split(',')\n",
    "    for line in lines:\n",
    "        # To get annotations in a iterative way from the source:\n",
    "        paper_id = line # id or some identifier          \n",
    "        text = \"\"\"We propose a fact validation challenge for ISWC 2019. The participants will be provided set of facts in the form of a set of RDF triples as input. They will be requested to evaluate the veracity of this input and return a score between -1 (false) and +1 (true). This score  quantifies how reliable the given facts are. The challenge will be based on the biomedical knowledge graph DrugBank and consist of two tasks. In Task 1 (Batch Fact Validation), the ROC achieved by the participants will be evaluated using the GERBIL extension used successfully during the ISWC Semantic Web Challenges 2017 and 2018. Task 2 will be concerned with fact validation at scale and rely on the HOBBIT benchmarking platform. Here, the participants will be faced with an interactive task, in which both ROC and runtime will be evaluated.\"\"\"\n",
    "        dbCategories = getAnnotations(paper_id, text)\n",
    "        fic = open(\"text_4.txt\", \"a+\")\n",
    "        fic.writelines(\"%s\\n\" % s for s in dbCategories)\n",
    "\n",
    "fic.close()"
   ]
  },
  {
   "cell_type": "code",
   "execution_count": 4,
   "metadata": {},
   "outputs": [
    {
     "name": "stdout",
     "output_type": "stream",
     "text": [
      "----------------------------------------\n",
      "[\"\\n'102307jctv1850gc423'\", 'http://dbpedia.org/resource/ISWC', 0.24496769905090332, 0.31707316637039185, 'http://dbpedia.org/resource/Category:Music_technology']\n",
      "----------------------------------------\n",
      "[\"\\n'102307jctv1850gc423'\", 'http://dbpedia.org/resource/ISWC', 0.24496769905090332, 0.31707316637039185, 'http://dbpedia.org/resource/Category:ISO_standards']\n",
      "----------------------------------------\n",
      "[\"\\n'102307jctv1850gc423'\", 'http://dbpedia.org/resource/ISWC', 0.24496769905090332, 0.31707316637039185, 'http://dbpedia.org/resource/Category:Identifiers']\n",
      "----------------------------------------\n",
      "[\"\\n'102307jctv1850gc423'\", 'http://dbpedia.org/resource/ISWC', 0.24496769905090332, 0.31707316637039185, 'http://dbpedia.org/resource/Category:Universal_identifiers']\n",
      "----------------------------------------\n",
      "[\"\\n'102307jctv1850gc423'\", 'http://dbpedia.org/resource/RDF', 0.3218223750591278, 0.4697193503379822, 'http://dbpedia.org/resource/Category:Resource_Description_Framework']\n",
      "----------------------------------------\n",
      "[\"\\n'102307jctv1850gc423'\", 'http://dbpedia.org/resource/RDF', 0.3218223750591278, 0.4697193503379822, 'http://dbpedia.org/resource/Category:Knowledge_representation']\n",
      "----------------------------------------\n",
      "[\"\\n'102307jctv1850gc423'\", 'http://dbpedia.org/resource/RDF', 0.3218223750591278, 0.4697193503379822, 'http://dbpedia.org/resource/Category:World_Wide_Web_Consortium_standards']\n",
      "----------------------------------------\n",
      "[\"\\n'102307jctv1850gc423'\", 'http://dbpedia.org/resource/RDF', 0.3218223750591278, 0.4697193503379822, 'http://dbpedia.org/resource/Category:XML']\n",
      "----------------------------------------\n",
      "[\"\\n'102307jctv1850gc423'\", 'http://dbpedia.org/resource/RDF', 0.3218223750591278, 0.4697193503379822, 'http://dbpedia.org/resource/Category:XML-based_standards']\n",
      "----------------------------------------\n",
      "[\"\\n'102307jctv1850gc423'\", 'http://dbpedia.org/resource/RDF', 0.3218223750591278, 0.4697193503379822, 'http://dbpedia.org/resource/Category:Metadata']\n",
      "----------------------------------------\n",
      "[\"\\n'102307jctv1850gc423'\", 'http://dbpedia.org/resource/RDF', 0.3218223750591278, 0.4697193503379822, 'http://dbpedia.org/resource/Category:Semantic_Web']\n",
      "----------------------------------------\n",
      "[\"\\n'102307jctv1850gc423'\", 'http://dbpedia.org/resource/RDF', 0.3218223750591278, 0.4697193503379822, 'http://dbpedia.org/resource/Category:Bibliography_file_formats']\n",
      "----------------------------------------\n",
      "[\"\\n'102307jctv1850gc423'\", 'http://dbpedia.org/resource/RDF_triples', 0.19807380437850952, 0.2222222238779068, 'http://dbpedia.org/resource/Category:Resource_Description_Framework']\n",
      "----------------------------------------\n",
      "[\"\\n'102307jctv1850gc423'\", 'http://dbpedia.org/resource/RDF_triples', 0.19807380437850952, 0.2222222238779068, 'http://dbpedia.org/resource/Category:Knowledge_representation']\n",
      "----------------------------------------\n",
      "[\"\\n'102307jctv1850gc423'\", 'http://dbpedia.org/resource/RDF_triples', 0.19807380437850952, 0.2222222238779068, 'http://dbpedia.org/resource/Category:World_Wide_Web_Consortium_standards']\n",
      "----------------------------------------\n",
      "[\"\\n'102307jctv1850gc423'\", 'http://dbpedia.org/resource/RDF_triples', 0.19807380437850952, 0.2222222238779068, 'http://dbpedia.org/resource/Category:XML']\n",
      "----------------------------------------\n",
      "[\"\\n'102307jctv1850gc423'\", 'http://dbpedia.org/resource/RDF_triples', 0.19807380437850952, 0.2222222238779068, 'http://dbpedia.org/resource/Category:XML-based_standards']\n",
      "----------------------------------------\n",
      "[\"\\n'102307jctv1850gc423'\", 'http://dbpedia.org/resource/RDF_triples', 0.19807380437850952, 0.2222222238779068, 'http://dbpedia.org/resource/Category:Metadata']\n",
      "----------------------------------------\n",
      "[\"\\n'102307jctv1850gc423'\", 'http://dbpedia.org/resource/RDF_triples', 0.19807380437850952, 0.2222222238779068, 'http://dbpedia.org/resource/Category:Semantic_Web']\n",
      "----------------------------------------\n",
      "[\"\\n'102307jctv1850gc423'\", 'http://dbpedia.org/resource/RDF_triples', 0.19807380437850952, 0.2222222238779068, 'http://dbpedia.org/resource/Category:Bibliography_file_formats']\n",
      "----------------------------------------\n",
      "[\"\\n'102307jctv1850gc423'\", 'http://dbpedia.org/resource/triples', 0.17579340934753418, 0.35158681869506836, 'http://dbpedia.org/resource/Category:Baseball_terminology']\n",
      "----------------------------------------\n",
      "[\"\\n'102307jctv1850gc423'\", 'http://dbpedia.org/resource/triples', 0.17579340934753418, 0.35158681869506836, 'http://dbpedia.org/resource/Category:Batting_statistics']\n",
      "----------------------------------------\n",
      "[\"\\n'102307jctv1850gc423'\", 'http://dbpedia.org/resource/knowledge_graph', 0.632880449295044, 0.9714285731315613, 'http://dbpedia.org/resource/Category:Knowledge_engineering']\n",
      "----------------------------------------\n",
      "[\"\\n'102307jctv1850gc423'\", 'http://dbpedia.org/resource/knowledge_graph', 0.632880449295044, 0.9714285731315613, 'http://dbpedia.org/resource/Category:Technical_communication']\n",
      "----------------------------------------\n",
      "[\"\\n'102307jctv1850gc423'\", 'http://dbpedia.org/resource/knowledge_graph', 0.632880449295044, 0.9714285731315613, 'http://dbpedia.org/resource/Category:Information_science']\n",
      "----------------------------------------\n",
      "[\"\\n'102307jctv1850gc423'\", 'http://dbpedia.org/resource/knowledge_graph', 0.632880449295044, 0.9714285731315613, 'http://dbpedia.org/resource/Category:Semantic_Web']\n",
      "----------------------------------------\n",
      "[\"\\n'102307jctv1850gc423'\", 'http://dbpedia.org/resource/knowledge_graph', 0.632880449295044, 0.9714285731315613, 'http://dbpedia.org/resource/Category:Ontology_(information_science)']\n",
      "----------------------------------------\n",
      "[\"\\n'102307jctv1850gc423'\", 'http://dbpedia.org/resource/knowledge_graph', 0.632880449295044, 0.9714285731315613, 'http://dbpedia.org/resource/Category:Knowledge_representation']\n",
      "----------------------------------------\n",
      "[\"\\n'102307jctv1850gc423'\", 'http://dbpedia.org/resource/DrugBank', 0.5051426887512207, 1, 'http://dbpedia.org/resource/Category:Chemical_databases']\n",
      "----------------------------------------\n",
      "[\"\\n'102307jctv1850gc423'\", 'http://dbpedia.org/resource/DrugBank', 0.5051426887512207, 1, 'http://dbpedia.org/resource/Category:Metabolomic_databases']\n",
      "----------------------------------------\n",
      "[\"\\n'102307jctv1850gc423'\", 'http://dbpedia.org/resource/GERBIL', 0.31589147448539734, 0.6317829489707947, 'http://dbpedia.org/resource/Category:Muridae']\n",
      "----------------------------------------\n",
      "[\"\\n'102307jctv1850gc423'\", 'http://dbpedia.org/resource/GERBIL', 0.31589147448539734, 0.6317829489707947, 'http://dbpedia.org/resource/Category:Gerbils']\n",
      "----------------------------------------\n",
      "[\"\\n'102307jctv1850gc423'\", 'http://dbpedia.org/resource/GERBIL', 0.31589147448539734, 0.6317829489707947, 'http://dbpedia.org/resource/Category:Pet_rodents']\n",
      "----------------------------------------\n",
      "[\"\\n'102307jctv1850gc423'\", 'http://dbpedia.org/resource/GERBIL', 0.31589147448539734, 0.6317829489707947, 'http://dbpedia.org/resource/Category:Fauna_of_Central_Asia']\n",
      "----------------------------------------\n",
      "[\"\\n'102307jctv1850gc423'\", 'http://dbpedia.org/resource/GERBIL', 0.31589147448539734, 0.6317829489707947, 'http://dbpedia.org/resource/Category:Fauna_of_Mongolia']\n",
      "----------------------------------------\n",
      "[\"\\n'102307jctv1850gc423'\", 'http://dbpedia.org/resource/ISWC', 0.2306729555130005, 0.31707316637039185, 'http://dbpedia.org/resource/Category:Music_technology']\n",
      "----------------------------------------\n",
      "[\"\\n'102307jctv1850gc423'\", 'http://dbpedia.org/resource/ISWC', 0.2306729555130005, 0.31707316637039185, 'http://dbpedia.org/resource/Category:ISO_standards']\n",
      "----------------------------------------\n",
      "[\"\\n'102307jctv1850gc423'\", 'http://dbpedia.org/resource/ISWC', 0.2306729555130005, 0.31707316637039185, 'http://dbpedia.org/resource/Category:Identifiers']\n",
      "----------------------------------------\n",
      "[\"\\n'102307jctv1850gc423'\", 'http://dbpedia.org/resource/ISWC', 0.2306729555130005, 0.31707316637039185, 'http://dbpedia.org/resource/Category:Universal_identifiers']\n",
      "----------------------------------------\n",
      "[\"\\n'102307jctv1850gc423'\", 'http://dbpedia.org/resource/Semantic_Web', 0.549528956413269, 0.8864468932151794, 'http://dbpedia.org/resource/Category:Buzzwords']\n",
      "----------------------------------------\n",
      "[\"\\n'102307jctv1850gc423'\", 'http://dbpedia.org/resource/Semantic_Web', 0.549528956413269, 0.8864468932151794, 'http://dbpedia.org/resource/Category:Semantic_Web']\n",
      "----------------------------------------\n",
      "[\"\\n'102307jctv1850gc423'\", 'http://dbpedia.org/resource/Semantic_Web', 0.549528956413269, 0.8864468932151794, 'http://dbpedia.org/resource/Category:Web_services']\n",
      "----------------------------------------\n",
      "[\"\\n'102307jctv1850gc423'\", 'http://dbpedia.org/resource/HOBBIT', 0.5243368148803711, 1, 'http://dbpedia.org/resource/Category:Middle-earth_races']\n",
      "----------------------------------------\n",
      "[\"\\n'102307jctv1850gc423'\", 'http://dbpedia.org/resource/HOBBIT', 0.5243368148803711, 1, 'http://dbpedia.org/resource/Category:Fictional_species_and_races']\n",
      "----------------------------------------\n",
      "[\"\\n'102307jctv1850gc423'\", 'http://dbpedia.org/resource/HOBBIT', 0.5243368148803711, 1, 'http://dbpedia.org/resource/Category:Middle-earth_Hobbits']\n",
      "----------------------------------------\n",
      "[\"\\n'102307jctv1850gc423'\", 'http://dbpedia.org/resource/benchmarking', 0.16154593229293823, 0.24315068125724792, 'http://dbpedia.org/resource/Category:Strategic_management']\n",
      "----------------------------------------\n",
      "[\"\\n'102307jctv1850gc423'\", 'http://dbpedia.org/resource/benchmarking', 0.16154593229293823, 0.24315068125724792, 'http://dbpedia.org/resource/Category:Classification_systems']\n"
     ]
    }
   ],
   "source": [
    "# Explore the results:\n",
    "\n",
    "for a in dbCategories:\n",
    "    print(40*'-')\n",
    "    print(a) # DBpedia categories"
   ]
  },
  {
   "cell_type": "markdown",
   "metadata": {},
   "source": [
    "###  Next steps (to do):\n",
    "\n",
    "- Manual analysis to set the most suitable threshold for rho and link_probability.\n",
    "- Filter results acccording thresholds:\n",
    "- Enrich the KG with new triplets. For example:\n",
    "    - Connecting each paper to DBPedia resources:\n",
    "    <http://data.example.org/1101D5345H58> schema:mentions <http://dbpedia.org/resource/RDF>\n",
    "    \n",
    "    - Connecting each paper to DBpedia categories: \n",
    "    <http://data.example.org/1101D5345H58> dct:subject <http://dbpedia.org/resource/Category:Semantic_Web> .\n",
    "\n",
    "- To save in your KG.\n",
    "    \n",
    "    "
   ]
  },
  {
   "cell_type": "markdown",
   "metadata": {},
   "source": [
    "### 1.1.2 To find equivalent topics (keywords):"
   ]
  },
  {
   "cell_type": "code",
   "execution_count": 5,
   "metadata": {},
   "outputs": [],
   "source": [
    "#keyword = 'Knowledge extraction'\n",
    "keyword = 'Bibliographic Metadata'\n",
    "paper_id = 'http://data.example.org/1101D5345H58' # id or some identifier\n",
    "\n",
    "dbCategoriesK = getAnnotations(paper_id, keyword)"
   ]
  },
  {
   "cell_type": "code",
   "execution_count": 6,
   "metadata": {},
   "outputs": [
    {
     "name": "stdout",
     "output_type": "stream",
     "text": [
      "----------------------------------------\n",
      "['http://data.example.org/1101D5345H58', 'http://dbpedia.org/resource/Metadata', 0.45757266879081726, 0.49475109577178955, 'http://dbpedia.org/resource/Category:Data_management']\n",
      "----------------------------------------\n",
      "['http://data.example.org/1101D5345H58', 'http://dbpedia.org/resource/Metadata', 0.45757266879081726, 0.49475109577178955, 'http://dbpedia.org/resource/Category:Knowledge_representation']\n",
      "----------------------------------------\n",
      "['http://data.example.org/1101D5345H58', 'http://dbpedia.org/resource/Metadata', 0.45757266879081726, 0.49475109577178955, 'http://dbpedia.org/resource/Category:Library_cataloging_and_classification']\n",
      "----------------------------------------\n",
      "['http://data.example.org/1101D5345H58', 'http://dbpedia.org/resource/Metadata', 0.45757266879081726, 0.49475109577178955, 'http://dbpedia.org/resource/Category:Metadata']\n",
      "----------------------------------------\n",
      "['http://data.example.org/1101D5345H58', 'http://dbpedia.org/resource/Metadata', 0.45757266879081726, 0.49475109577178955, 'http://dbpedia.org/resource/Category:Technical_communication']\n",
      "----------------------------------------\n",
      "['http://data.example.org/1101D5345H58', 'http://dbpedia.org/resource/Metadata', 0.45757266879081726, 0.49475109577178955, 'http://dbpedia.org/resource/Category:Business_intelligence']\n"
     ]
    }
   ],
   "source": [
    "# Explore the results:\n",
    "\n",
    "for a in dbCategoriesK:\n",
    "    print(40*'-')\n",
    "    print(a) # DBpedia categories\n",
    "    \n",
    "    \n",
    "# Saving results according the last steps."
   ]
  },
  {
   "cell_type": "markdown",
   "metadata": {},
   "source": [
    "## 1.2. Using DBpedia Spotlight\n",
    "\n"
   ]
  },
  {
   "cell_type": "markdown",
   "metadata": {},
   "source": [
    "- Home page: https://www.dbpedia-spotlight.org\n",
    "\n",
    "- API Documentation: \n",
    "\n",
    "\n",
    "- Way 1: using the pyspotlight library of Python: pip install pyspotlight\n",
    "\n",
    "    https://pypi.org/project/pyspotlight/\n",
    "    \n",
    "    \n",
    "    \n",
    "- Way 2: using the spotligh library of Python: pip install spacy-dbpedia-spotlight\n",
    "\n",
    "    https://pypi.org/project/spacy-dbpedia-spotlight/"
   ]
  },
  {
   "cell_type": "code",
   "execution_count": 7,
   "metadata": {},
   "outputs": [
    {
     "ename": "ModuleNotFoundError",
     "evalue": "No module named 'spotlight'",
     "output_type": "error",
     "traceback": [
      "\u001b[1;31m---------------------------------------------------------------------------\u001b[0m",
      "\u001b[1;31mModuleNotFoundError\u001b[0m                       Traceback (most recent call last)",
      "\u001b[1;32mC:\\Users\\ALEXIS~1\\AppData\\Local\\Temp/ipykernel_18852/2160630834.py\u001b[0m in \u001b[0;36m<module>\u001b[1;34m\u001b[0m\n\u001b[1;32m----> 1\u001b[1;33m \u001b[1;32mimport\u001b[0m \u001b[0mspotlight\u001b[0m\u001b[1;33m\u001b[0m\u001b[1;33m\u001b[0m\u001b[0m\n\u001b[0m\u001b[0;32m      2\u001b[0m \u001b[1;33m\u001b[0m\u001b[0m\n\u001b[0;32m      3\u001b[0m results = spotlight.annotate('https://api.dbpedia-spotlight.org/en/annotate', text, confidence=0.5, \n\u001b[0;32m      4\u001b[0m support=20)\n\u001b[0;32m      5\u001b[0m \u001b[0mresults\u001b[0m\u001b[1;33m\u001b[0m\u001b[1;33m\u001b[0m\u001b[0m\n",
      "\u001b[1;31mModuleNotFoundError\u001b[0m: No module named 'spotlight'"
     ]
    }
   ],
   "source": [
    "import spotlight\n",
    "\n",
    "results = spotlight.annotate('https://api.dbpedia-spotlight.org/en/annotate', text, confidence=0.5, \n",
    "support=20)\n",
    "results"
   ]
  },
  {
   "cell_type": "code",
   "execution_count": null,
   "metadata": {},
   "outputs": [],
   "source": [
    "# Querying using the API Endpoint (for keywords):\n",
    "S = requests.Session()\n",
    "headers = {'User-agent': 'Mozilla/5.0'}\n",
    "r = S.get(url='https://api.dbpedia-spotlight.org/en/annotate?text=' + keyword)\n",
    "# r.headers"
   ]
  },
  {
   "cell_type": "code",
   "execution_count": null,
   "metadata": {},
   "outputs": [],
   "source": [
    "if r.status_code == 200:\n",
    "    print(r.content)"
   ]
  },
  {
   "cell_type": "markdown",
   "metadata": {},
   "source": [
    "# 2. Retrieving more data from DBpedia Sparq Endpoint\n",
    "\n",
    "\n",
    "\n",
    "### Requirements:\n",
    "\n",
    "- Install SPARQLWrapper on a pyton environment.\n",
    "- Get a list of unique DBPedia instances and DBPedia concepts."
   ]
  },
  {
   "cell_type": "code",
   "execution_count": null,
   "metadata": {},
   "outputs": [],
   "source": [
    "dbrUnique = set([r[1] for r in dbCategories])\n",
    "dbrUnique"
   ]
  },
  {
   "cell_type": "code",
   "execution_count": null,
   "metadata": {},
   "outputs": [],
   "source": [
    "from SPARQLWrapper import SPARQLWrapper, JSON, RDF, XML\n",
    "# endpoint:\n",
    "e = \"http://dbpedia.org/sparql\"\n",
    "\n",
    "# Query template:\n",
    "Q = \"\"\"SELECT DISTINCT ?prop ?value WHERE {\n",
    "  VALUES ?root {<%s>}\n",
    "  VALUES ?prop {%s}\n",
    "  ?root ?prop ?value .\n",
    "  FILTER(LANG(?value)='en')\n",
    "} ORDER BY ?value\"\"\"\n"
   ]
  },
  {
   "cell_type": "code",
   "execution_count": null,
   "metadata": {},
   "outputs": [],
   "source": [
    "def getTriplets(node, q, p):\n",
    "    sparql = SPARQLWrapper(e)\n",
    "    sparql.setQuery(q%(node, p))\n",
    "    sparql.setReturnFormat(JSON)\n",
    "    results = sparql.query().convert()\n",
    "    for result in results[\"results\"][\"bindings\"]:\n",
    "        print(node, result['prop'][\"value\"], result['value'][\"value\"]) # To save in your KG\n",
    "\n",
    "# To run from a unique list or dbr:\n",
    "for r in dbrUnique:\n",
    "    getTriplets(r, Q, 'rdfs:label')\n"
   ]
  }
 ],
 "metadata": {
  "finalized": {
   "timestamp": 1624308582641,
   "trusted": true
  },
  "kernelspec": {
   "display_name": "Python 3 (ipykernel)",
   "language": "python",
   "name": "python3"
  },
  "language_info": {
   "codemirror_mode": {
    "name": "ipython",
    "version": 3
   },
   "file_extension": ".py",
   "mimetype": "text/x-python",
   "name": "python",
   "nbconvert_exporter": "python",
   "pygments_lexer": "ipython3",
   "version": "3.7.9"
  }
 },
 "nbformat": 4,
 "nbformat_minor": 4
}
